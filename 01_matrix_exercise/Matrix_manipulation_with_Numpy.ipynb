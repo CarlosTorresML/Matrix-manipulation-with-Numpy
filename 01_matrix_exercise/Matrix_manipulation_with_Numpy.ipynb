{
 "cells": [
  {
   "cell_type": "markdown",
   "id": "16503fda-ff25-4ae4-9734-ea88334f8843",
   "metadata": {},
   "source": [
    "# Matrix Manipulation and Filtering\n",
    "\n",
    "## Exercise\n",
    "\n",
    "1. Create a NumPy array of shape **(8, 5)** filled with **random integers between 10 and 99**.\n",
    "2. Replace all **odd numbers** in the array with `-1`.\n",
    "3. Create a second array from the original, but:\n",
    "   - Keep only the rows where the **sum of the row is greater than 300**.\n",
    "4. Save both arrays (the filtered and the modified one with -1s) as separate `.csv` files:\n",
    "   - `matrix_with_negatives.csv`\n",
    "   - `matrix_sum_filtered.csv` \n"
   ]
  },
  {
   "cell_type": "code",
   "execution_count": 3,
   "id": "aed5907d-64c7-49ce-8709-a9144af2bcdd",
   "metadata": {},
   "outputs": [],
   "source": [
    "import numpy as np"
   ]
  },
  {
   "cell_type": "code",
   "execution_count": 4,
   "id": "a1d18f89-6da0-4b56-b835-7df6226d8ee2",
   "metadata": {},
   "outputs": [],
   "source": [
    "# Creating the array\n",
    "\n",
    "array = np.random.randint(10,100, size=(8,5))"
   ]
  },
  {
   "cell_type": "code",
   "execution_count": null,
   "id": "08131fee-1d22-4652-b576-a0e8a754ebc4",
   "metadata": {},
   "outputs": [],
   "source": [
    "# Replace odd values\n",
    "\n",
    "odd_filter = array % 2 != 0\n",
    "array[odd_filter] = -1"
   ]
  },
  {
   "cell_type": "code",
   "execution_count": null,
   "id": "8f84c72a-eef1-44b9-bd2e-4238fbe3c8df",
   "metadata": {},
   "outputs": [],
   "source": [
    "# Filter rows with sum > 300\n",
    "\n",
    "row_sum = np.sum(array, axis=1)\n",
    "sum_filter = row_sum > 300\n",
    "filtered_array = array[sum_filter]\n",
    "print('Filtered array (row sum > 300): ')\n",
    "print(filtered_array)"
   ]
  },
  {
   "cell_type": "code",
   "execution_count": null,
   "id": "3ac12dd9-952f-40a2-9b87-9c474577de85",
   "metadata": {},
   "outputs": [],
   "source": [
    "# Saving both matrix\n",
    "\n",
    "np.savetxt('matrix_with_negatives.csv', array, delimiter=',', header='Matrix with negatives')\n",
    "np.savetxt('matrix_sum_filtered.csv', filtered_array, delimiter=',', header='Matrix filtered by sum > 300')\n"
   ]
  },
  {
   "cell_type": "markdown",
   "id": "e0a2c8c8-af68-4044-af69-1b52403c4952",
   "metadata": {},
   "source": [
    "## Conclusion\n",
    "\n",
    "In this exercise, I created and modified a matrix using NumPy. I practiced:\n",
    "- Replacing values using filters\n",
    "- Filtering rows based on row sum\n",
    "- Saving arrays to CSV files\n",
    "\n",
    "This helped reinforce my understanding of NumPy array operations and data preprocessing.\n"
   ]
  }
 ],
 "metadata": {
  "kernelspec": {
   "display_name": "Python 3 (ipykernel)",
   "language": "python",
   "name": "python3"
  },
  "language_info": {
   "codemirror_mode": {
    "name": "ipython",
    "version": 3
   },
   "file_extension": ".py",
   "mimetype": "text/x-python",
   "name": "python",
   "nbconvert_exporter": "python",
   "pygments_lexer": "ipython3",
   "version": "3.12.2"
  }
 },
 "nbformat": 4,
 "nbformat_minor": 5
}
