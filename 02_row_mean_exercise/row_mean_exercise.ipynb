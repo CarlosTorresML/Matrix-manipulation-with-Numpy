{
 "cells": [
  {
   "cell_type": "markdown",
   "id": "30b9a891-4d21-477c-a6a3-483b93945e44",
   "metadata": {},
   "source": [
    "#  NumPy Exercise: Row and Column Operations\n",
    "\n",
    "## Task Description\n",
    "\n",
    "1. Create a NumPy array of shape **(6, 6)** with **random integers between 1 and 50**.\n",
    "2. Replace all values that are **divisible by 3** with `0`.\n",
    "3. Calculate the **mean of each row** and store it in a separate 1D array.\n",
    "4. Add that row of means as a **new column** at the end of the original array.\n",
    "5. Save the final array as `matrix_with_means.csv`."
   ]
  },
  {
   "cell_type": "code",
   "execution_count": null,
   "id": "15b6534c-5d91-4112-9e4f-00a4027c407d",
   "metadata": {},
   "outputs": [],
   "source": [
    "import numpy as np"
   ]
  },
  {
   "cell_type": "code",
   "execution_count": null,
   "id": "8a856c75-af44-419e-9c6a-59cb603f59f7",
   "metadata": {},
   "outputs": [],
   "source": [
    "# Creating the array\n",
    "\n",
    "array = np.random.randint(1,51, size=(6,6))"
   ]
  },
  {
   "cell_type": "code",
   "execution_count": null,
   "id": "cd5d1421-3176-431b-bcf0-cdf9145c0b78",
   "metadata": {},
   "outputs": [],
   "source": [
    "# Replace values divisible by 3\n",
    "\n",
    "filter = array % 3 == 0\n",
    "array[filter] = 0"
   ]
  },
  {
   "cell_type": "code",
   "execution_count": null,
   "id": "4ca309b5-7629-426c-b78f-879700f41c60",
   "metadata": {},
   "outputs": [],
   "source": [
    "# Calculating mean of each row\n",
    "\n",
    "row_mean = np.mean(array, axis=1)"
   ]
  },
  {
   "cell_type": "code",
   "execution_count": null,
   "id": "f86c2ccc-0e3f-40ba-bae7-4614172d3a87",
   "metadata": {},
   "outputs": [],
   "source": [
    "# Adding mean to the original array\n",
    "\n",
    "array_with_mean = np.column_stack((array, row_mean))"
   ]
  },
  {
   "cell_type": "code",
   "execution_count": null,
   "id": "1a5d13a2-59ed-4656-b7e8-58beb9c6c7f3",
   "metadata": {},
   "outputs": [],
   "source": [
    "# Saving array\n",
    "\n",
    "np.savetxt('matrix_with_means.csv', array_with_mean, delimiter=',', header='Matrix with means',comments='')\n"
   ]
  },
  {
   "cell_type": "code",
   "execution_count": null,
   "id": "748549cd-0533-471e-8940-571d0be8f43c",
   "metadata": {},
   "outputs": [],
   "source": []
  }
 ],
 "metadata": {
  "kernelspec": {
   "display_name": "Python 3 (ipykernel)",
   "language": "python",
   "name": "python3"
  },
  "language_info": {
   "codemirror_mode": {
    "name": "ipython",
    "version": 3
   },
   "file_extension": ".py",
   "mimetype": "text/x-python",
   "name": "python",
   "nbconvert_exporter": "python",
   "pygments_lexer": "ipython3",
   "version": "3.12.2"
  }
 },
 "nbformat": 4,
 "nbformat_minor": 5
}
